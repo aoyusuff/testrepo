{
 "cells": [
  {
   "cell_type": "markdown",
   "id": "d8f1d7e2-bb38-421d-83f5-7856901a8317",
   "metadata": {
    "tags": []
   },
   "source": [
    "# Data Science Tools and Ecosystem "
   ]
  },
  {
   "cell_type": "markdown",
   "id": "3ee5a85d-5ba1-4be1-bc5e-f0fe472ea405",
   "metadata": {},
   "source": [
    "In this notebook, Data Science tools and ecosystem are summarized"
   ]
  },
  {
   "cell_type": "markdown",
   "id": "fdfaa459-57c4-4093-a1c6-6bcdb8e13106",
   "metadata": {
    "tags": []
   },
   "source": [
    "**Objectives**\n",
    "- List of Data Science Libraries\n",
    "- List of Data Science Tools\n",
    "- List of Data Science Languages "
   ]
  },
  {
   "cell_type": "markdown",
   "id": "3ecd156d-4489-4d24-b5c4-0978a446d7d6",
   "metadata": {
    "tags": []
   },
   "source": [
    "Some of the data science languages Data Scientists use are:\n",
    "1. Python\n",
    "2. R\n",
    "3. Julia"
   ]
  },
  {
   "cell_type": "markdown",
   "id": "da894fc2-1188-47ab-b9bd-d494468a1697",
   "metadata": {},
   "source": [
    "Some of the commonly used libraries used by Data Scientists are:\n",
    "1. Pandas\n",
    "2. Matplotlib\n",
    "3. Keras"
   ]
  },
  {
   "cell_type": "markdown",
   "id": "600c3646-8b56-4c5c-8bf5-8fb54bbc2daf",
   "metadata": {},
   "source": [
    "Data Science Tools |IBM Watson Studio| R Studio | Azure Machine Learning "
   ]
  },
  {
   "cell_type": "markdown",
   "id": "46b0fd23-efd5-4760-8d86-62c4c856312f",
   "metadata": {},
   "source": [
    "### Below are a few examples of evaluating arithmetic expressions in Python:"
   ]
  },
  {
   "cell_type": "code",
   "execution_count": 3,
   "id": "3a8cf386-e766-4fb1-8b63-7d379823d744",
   "metadata": {
    "tags": []
   },
   "outputs": [
    {
     "data": {
      "text/plain": [
       "17"
      ]
     },
     "execution_count": 3,
     "metadata": {},
     "output_type": "execute_result"
    }
   ],
   "source": [
    "#This is a simple arithmetic expression to multiply then add integers\n",
    "(3*4)+5"
   ]
  },
  {
   "cell_type": "code",
   "execution_count": 4,
   "id": "22254284-8236-4a12-898c-861ab0542c31",
   "metadata": {
    "tags": []
   },
   "outputs": [
    {
     "data": {
      "text/plain": [
       "3.3333333333333335"
      ]
     },
     "execution_count": 4,
     "metadata": {},
     "output_type": "execute_result"
    }
   ],
   "source": [
    "# This will convert 200minutes to hours by dividing by 60\n",
    "200/60"
   ]
  },
  {
   "cell_type": "markdown",
   "id": "7b9664de-93ac-4bd6-bbe3-29603ecc21b9",
   "metadata": {},
   "source": [
    "## Author\n",
    "\n",
    "Azeez Olawale-Arish YUSUFF "
   ]
  }
 ],
 "metadata": {
  "kernelspec": {
   "display_name": "Python",
   "language": "python",
   "name": "conda-env-python-py"
  },
  "language_info": {
   "codemirror_mode": {
    "name": "ipython",
    "version": 3
   },
   "file_extension": ".py",
   "mimetype": "text/x-python",
   "name": "python",
   "nbconvert_exporter": "python",
   "pygments_lexer": "ipython3",
   "version": "3.7.12"
  }
 },
 "nbformat": 4,
 "nbformat_minor": 5
}
